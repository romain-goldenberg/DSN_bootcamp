{
 "cells": [
  {
   "cell_type": "markdown",
   "id": "0fadb296",
   "metadata": {},
   "source": [
    "<img src=\"img/f_blue@2x.png\" width=\"15%\"/>\n",
    "\n",
    "# Practical 2: Assessing Health Facilities Coverage\n",
    "---\n",
    "*29 October 2021* \\\n",
    "**Author**: Romain Goldenberg \\@ Flowminder foundation\n",
    "\n",
    "<br></br>\n",
    "\n",
    "This exercise provides an example of how we can use GRID3 data within an application.\n",
    "\n",
    "**The problem:** We want to assess health facility coverage for maternal healthcare in Kaduna state. We are interested in finding out which areas are over-stretched with a high number of women of child-bearing age (WOCBA) per health-facility. By identifying a target number of people per health facility, we can begin to highlight locations that may need further invention."
   ]
  },
  {
   "cell_type": "markdown",
   "id": "6e572acf",
   "metadata": {
    "ExecuteTime": {
     "end_time": "2021-10-08T13:57:00.065863Z",
     "start_time": "2021-10-08T13:57:00.060784Z"
    }
   },
   "source": [
    "## Getting started\n",
    "---\n",
    "### Exercise Overview\n",
    "---\n",
    "Using geospatial analysis in Python, this demo will show an assessment of health facility coverage for maternal health using the GRID3 population data for Kaduna State.\n",
    "\n",
    "In this exercise we are going to:\n",
    "\n",
    "- Load some spatial data\n",
    "- Subset the data to focus on points of interest\n",
    "- Aggregate dataset using some basic geospatial techniques\n",
    "- Try and identify connections between datasets to set targets"
   ]
  },
  {
   "cell_type": "markdown",
   "id": "d9a33920",
   "metadata": {},
   "source": [
    "### Loading Packages\n",
    "---"
   ]
  },
  {
   "cell_type": "code",
   "execution_count": null,
   "id": "8ce69aaf",
   "metadata": {
    "ExecuteTime": {
     "end_time": "2021-10-15T15:18:05.150418Z",
     "start_time": "2021-10-15T15:18:03.548508Z"
    },
    "scrolled": false
   },
   "outputs": [],
   "source": [
    "# General purpose libraries.\n",
    "import pandas as pd\n",
    "import os\n",
    "import numpy as np\n",
    "\n",
    "# Geospatial libraries.\n",
    "import geopandas\n",
    "import rasterio\n",
    "from rasterio.plot import show\n",
    "import folium\n",
    "# Voronoi and Zonal statistics libraries\n",
    "from geovoronoi import voronoi_regions_from_coords\n",
    "from rasterstats import zonal_stats\n",
    "\n",
    "# Visualization libraries.\n",
    "from IPython.display import display\n",
    "from matplotlib import pyplot as plt\n",
    "import matplotlib.colors as mcolors"
   ]
  },
  {
   "cell_type": "markdown",
   "id": "1bc99cb1",
   "metadata": {},
   "source": [
    "### Loading Datasets\n",
    "We have four datasets used in this example:\n",
    "\n",
    "These datasets can be obtained from the GRID3 Nigeria Data portal at https://grid3.gov.ng/\n",
    "\n",
    ">- [**Health facility locations**](https://grid3.gov.ng/dataset/kaduna-health-care-facilities-primary-secondary-and-tertiary/resources)\n",
    ">- [**Ward boundaries**](https://grid3.gov.ng/dataset/kaduna-operational-ward-boundaries)\n",
    ">- [**Gridded population**](https://grid3.gov.ng/dataset/national-population-estimates/resources)\\\n",
    "We provide an already prepared dataset with women aged 15-49 for Kaduna State\n",
    ">- [**State boundary**](https://grid3.gov.ng/dataset/kaduna-state-administrative-boundaries)\n"
   ]
  },
  {
   "cell_type": "code",
   "execution_count": null,
   "id": "2d6dbe8b",
   "metadata": {
    "ExecuteTime": {
     "end_time": "2021-10-15T15:18:07.043584Z",
     "start_time": "2021-10-15T15:18:06.646568Z"
    }
   },
   "outputs": [],
   "source": [
    "# Path for the data folder\n",
    "data_path = os.path.join(os.getcwd(), 'Data')\n",
    "\n",
    "# Path to population (we will open it later with rasterio)\n",
    "population = data_path+\"/NGA_population_v1_2_agesex_f15_49_simple.tif\"\n",
    "\n",
    "# Below, we directly open the different shapefiles datasets with geopandas:\n",
    "# 1- Health facilities\n",
    "health_care = geopandas.read_file(\n",
    "    data_path+\"/health-care-facilities-primary-secondary-and-tertiary.geojson\")\n",
    "# 2- State boundaries\n",
    "state_boundary = geopandas.read_file(\n",
    "    data_path+\"/state-administrative-boundaries.geojson\")\n",
    "# 3- Wards boundaries\n",
    "wards = geopandas.read_file(data_path+\"/operational-ward-boundaries.geojson\")"
   ]
  },
  {
   "cell_type": "markdown",
   "id": "cb9bd17d",
   "metadata": {},
   "source": [
    "## Filtering Public health facilities\n",
    "---\n",
    "We will view our health facilty data below.\\\n",
    "This includes data such as their location, the type of health centre (*primary, secondary, tertiary*), and whether it is private or publicly owned. An example of some of the data is shown below:"
   ]
  },
  {
   "cell_type": "code",
   "execution_count": null,
   "id": "ded96bde",
   "metadata": {
    "ExecuteTime": {
     "end_time": "2021-10-15T15:18:08.314171Z",
     "start_time": "2021-10-15T15:18:08.285367Z"
    },
    "scrolled": false
   },
   "outputs": [],
   "source": [
    "# Here, we select specific columns (of interest) to show,\n",
    "# indicated by the different indexes (position of the column).\n",
    "# display is used to show the data.\n",
    "display(health_care.iloc[:, np.r_[1:3, 9, 11, 15, 19, 24]])"
   ]
  },
  {
   "cell_type": "markdown",
   "id": "c2395b51",
   "metadata": {
    "ExecuteTime": {
     "end_time": "2021-10-15T08:09:04.740175Z",
     "start_time": "2021-10-15T08:09:04.727791Z"
    }
   },
   "source": [
    "For our example, we are only interested in public health centers. We will therefore filter the dataset below:"
   ]
  },
  {
   "cell_type": "code",
   "execution_count": null,
   "id": "665b208a",
   "metadata": {
    "ExecuteTime": {
     "end_time": "2021-10-15T15:18:09.760174Z",
     "start_time": "2021-10-15T15:18:09.731891Z"
    },
    "scrolled": false
   },
   "outputs": [],
   "source": [
    "# We select places where \"ownership\" = \"Public\", in other words public health centers.\n",
    "public_health_care = health_care.loc[health_care[\"ownership\"] == \"Public\"]\n",
    "\n",
    "# We display the results.\n",
    "display(public_health_care.iloc[:, np.r_[1:3, 9, 11, 15, 19, 24]])"
   ]
  },
  {
   "cell_type": "markdown",
   "id": "aae8b636",
   "metadata": {},
   "source": [
    "## Visualizing our datasets\n",
    "---\n",
    "\n",
    "All of our data is geospatial, meaning it has a relationship to spatial location. Our `health care` dataset is point(s) data, `wards` and `state_boundary` polygon(s) data. They are examples of [shapefile](https://gisgeography.com/spatial-data-types-vector-raster/) data. Our `population` dataset is instead an example of [raster](https://gisgeography.com/spatial-data-types-vector-raster/) data.\\\n",
    "So let's visualize our data on an interactive map.\n",
    "\n",
    "Below is the first layer of our map, the `wards` of Kaduna state:"
   ]
  },
  {
   "cell_type": "code",
   "execution_count": null,
   "id": "e3f72ff4",
   "metadata": {
    "ExecuteTime": {
     "end_time": "2021-10-15T15:18:11.561280Z",
     "start_time": "2021-10-15T15:18:11.059997Z"
    }
   },
   "outputs": [],
   "source": [
    "# explore() is a geopandas method to create interactive maps.\n",
    "# we assign it to the variable 'kaduna_map', to add more map layers after.\n",
    "kaduna_map = wards.explore(\n",
    "    color=\"black\",  # Use black color for borders.\n",
    "    # Styling instructions. We fill the wards with lightgrey color (when hovering over them),\n",
    "    # and change the opacity of different elements.\n",
    "    style_kwds=dict(fillColor=\"lightgrey\", fill=True,\n",
    "                    opacity=1., fillOpacity=0, interactive=True),\n",
    "    tiles=\"Esri WorldImagery\",  # Use \"Esri WorldImagery\" background tiles.\n",
    "    tooltip=False,  # Do not show tooltip when hovering on wards.\n",
    "    popup=\"ward_name\",  # Show the name of the ward on click.\n",
    "    # Do not show the column label \"ward_name\" in the popup.\n",
    "    popup_kwds=dict(labels=False),\n",
    "    smooth_factor=0,  # Prevent smoothing of the polygons edges.\n",
    "    name=\"wards\"  # Name of the layer in the map.\n",
    ")"
   ]
  },
  {
   "cell_type": "markdown",
   "id": "a8d2727d",
   "metadata": {},
   "source": [
    "Then we continue with our second layer, the `public_health_care` dataset:"
   ]
  },
  {
   "cell_type": "code",
   "execution_count": null,
   "id": "152a8502",
   "metadata": {
    "ExecuteTime": {
     "end_time": "2021-10-15T15:18:12.728181Z",
     "start_time": "2021-10-15T15:18:12.634238Z"
    }
   },
   "outputs": [],
   "source": [
    "public_health_care.explore(\n",
    "    m=kaduna_map,  # Pass the previous map object 'kaduna_map'.\n",
    "    column=\"category\",  # Make choropleth based on \"category\" column.\n",
    "    tooltip=\"name\",  # Show \"name\" value in tooltip (on hover)\n",
    "    # Do not show column label in the tooltip.\n",
    "    tooltip_kwds=dict(labels=False),\n",
    "    # Show the selected values in popup (on click).\n",
    "    popup=[\"category\", \"name\", \"ownership\"],\n",
    "    cmap=\"gnuplot2\",  # Use \"gnuplot2\" matplotlib color scheme.\n",
    "    marker_kwds=dict(radius=5),  # Size of the points.\n",
    "    # Styling instructions. We draw small black circles around our points,\n",
    "    # and change the opacity of different elements.\n",
    "    style_kwds=dict(color=\"black\", weight=1, fill=True,\n",
    "                    opacity=0.5, fillOpacity=0.8),\n",
    "    name=\"health_care\"  # Name of the layer in the map.\n",
    ")\n",
    "\n",
    "# Use the folium library (which Geopandas is based on for interactive mapping) to add layer control\n",
    "folium.LayerControl().add_to(kaduna_map)"
   ]
  },
  {
   "cell_type": "markdown",
   "id": "770f2098",
   "metadata": {},
   "source": [
    "We can now display our map:"
   ]
  },
  {
   "cell_type": "code",
   "execution_count": null,
   "id": "acf725e8",
   "metadata": {
    "ExecuteTime": {
     "end_time": "2021-10-15T15:18:14.343482Z",
     "start_time": "2021-10-15T15:18:13.910265Z"
    },
    "scrolled": false
   },
   "outputs": [],
   "source": [
    "kaduna_map"
   ]
  },
  {
   "cell_type": "markdown",
   "id": "bdd2b0c2",
   "metadata": {},
   "source": [
    "Now, let's visualize our raster data. We will use a different strategy for the sake of this exercise, as the data size of `population` is much larger. We will then produce here a simple static map.\\\n",
    "We will use here the `rasterio` library to manage and open our raster data:"
   ]
  },
  {
   "cell_type": "code",
   "execution_count": null,
   "id": "725e900a",
   "metadata": {
    "ExecuteTime": {
     "end_time": "2021-10-15T15:18:16.282946Z",
     "start_time": "2021-10-15T15:18:16.154874Z"
    }
   },
   "outputs": [],
   "source": [
    "# Use rasterio to import the raster data\n",
    "with rasterio.open(population) as pop:\n",
    "    data_pop = pop.dataset_mask()  # Returns the valid data mask.\n",
    "    img_pop = pop.read(1)  # Returns the full image.\n",
    "    nodata_pop = pop.nodata  # Returns the value of \"no data\" cells"
   ]
  },
  {
   "cell_type": "markdown",
   "id": "396a85f5",
   "metadata": {},
   "source": [
    "Then, we can map our `population` dataset using `imshow()` from the `matplotlib` library."
   ]
  },
  {
   "cell_type": "code",
   "execution_count": null,
   "id": "323bd1d3",
   "metadata": {
    "ExecuteTime": {
     "end_time": "2021-10-15T15:18:23.934194Z",
     "start_time": "2021-10-15T15:18:22.655240Z"
    },
    "scrolled": false
   },
   "outputs": [],
   "source": [
    "# We first define a normalization for our colormap (range of colors)\n",
    "norm = mcolors.TwoSlopeNorm(vmin=0, vmax=300., vcenter=30)\n",
    "\n",
    "# Then, we create a new figure\n",
    "fig, ax = plt.subplots(figsize=(12, 12))\n",
    "\n",
    "# We first plot the population data. We use 'afmhot_r' as color scheme, normalize the color scheme,\n",
    "# and provide the geographic extent of the data in 'extent'.\n",
    "plot_pop = ax.imshow(data_pop, cmap=\"afmhot_r\", norm=norm,\n",
    "                 extent=rasterio.plot.plotting_extent(pop))\n",
    "# Then, we plot our wards on top of the population data\n",
    "wards.plot(edgecolor='black', facecolor='none', linewidth=0.3, alpha=1, ax=ax)\n",
    "# Finally, we add a colorbar to the map\n",
    "fig.colorbar(plot_pop, fraction=0.043, pad=0.04, label='Population count', ax=ax)\n",
    "plt.title('Population in Kaduna state')  # Title for our plot\n",
    "plt.show()  # Show the figure"
   ]
  },
  {
   "cell_type": "markdown",
   "id": "8041e7ce",
   "metadata": {},
   "source": [
    "## Computing Voronoi Polygons\n",
    "---\n",
    "We are interested in finding out the health facility coverage across space.\n",
    "\n",
    "- Idea: optimize the partitioning of the area into polygons such that each polygon contains one health facility.\n",
    "- Method: [Voronoi](https://en.wikipedia.org/wiki/Voronoi_diagram) Polygon\n",
    "\n",
    "<figure>\n",
    "  <img\n",
    "  src=\"img/Voronoi_growth_euclidean.gif\"\n",
    "  alt=\"Voronoi.\"\n",
    "  width=\"20%\" \n",
    "  align=\"center\">\n",
    "  <figcaption>\n",
    "      <center>\n",
    "          <i> Emergence of a Voronoi tessellation from points (from \n",
    "          <a href=\"https://en.wikipedia.org/wiki/Voronoi_diagram\">Wikipedia</a></i>)\n",
    "      </center>\n",
    "  </figcaption>\n",
    "</figure>\n",
    "\n",
    "### Check on the CRS (Coordinate Reference System)\n",
    "---\n",
    "\n",
    "Before running this algorithm, we need to make sure our datasets have the same CRS. "
   ]
  },
  {
   "cell_type": "code",
   "execution_count": null,
   "id": "de4183bd",
   "metadata": {
    "ExecuteTime": {
     "end_time": "2021-10-15T15:18:25.799909Z",
     "start_time": "2021-10-15T15:18:25.795671Z"
    },
    "scrolled": false
   },
   "outputs": [],
   "source": [
    "# Using .crs (from geopandas), we easily obtain information on the dataset CRS.\n",
    "public_health_care.crs"
   ]
  },
  {
   "cell_type": "markdown",
   "id": "14875fe2",
   "metadata": {},
   "source": [
    "Currently, our data is in WGS 84 (epsg:4326), a latitude/longitude coordinate system based on the Earth's center of mass (very common, used by the Global Positioning System among others). For our purpose, it is better to use a local projected coordinate system, rather than a global geographic system (as we currently have) to avoid distortions in results due to the projection.\n",
    "\n",
    "We will now switch our data to the local CRS epsg:26392, a projected coordinate system (position measurements in meters) corresponding to Minna / Nigeria Mid Belt."
   ]
  },
  {
   "cell_type": "code",
   "execution_count": null,
   "id": "3f7f8ca1",
   "metadata": {
    "ExecuteTime": {
     "end_time": "2021-10-15T15:18:27.324680Z",
     "start_time": "2021-10-15T15:18:27.199000Z"
    }
   },
   "outputs": [],
   "source": [
    "# With .to_crs (from geopandas), we can easily reproject our data.\n",
    "public_health_care = public_health_care.to_crs(\"epsg:26392\")\n",
    "state_boundary = state_boundary.to_crs(\"epsg:26392\")\n",
    "wards = wards.to_crs(\"epsg:26392\")"
   ]
  },
  {
   "cell_type": "markdown",
   "id": "a43d71c6",
   "metadata": {},
   "source": [
    "Let's have a look at the new CRS:"
   ]
  },
  {
   "cell_type": "code",
   "execution_count": null,
   "id": "4dbeab40",
   "metadata": {
    "ExecuteTime": {
     "end_time": "2021-10-15T15:18:28.320327Z",
     "start_time": "2021-10-15T15:18:28.315458Z"
    }
   },
   "outputs": [],
   "source": [
    "public_health_care.crs"
   ]
  },
  {
   "cell_type": "markdown",
   "id": "13084fb1",
   "metadata": {},
   "source": [
    "And a quick look at the data.\\\n",
    "You should now see a difference in the coordinates of our `geometry` column, compared to the first time we opened the data:"
   ]
  },
  {
   "cell_type": "code",
   "execution_count": null,
   "id": "a8ec201b",
   "metadata": {
    "ExecuteTime": {
     "end_time": "2021-10-15T15:18:29.452001Z",
     "start_time": "2021-10-15T15:18:29.429448Z"
    }
   },
   "outputs": [],
   "source": [
    "# We display the results.\n",
    "display(public_health_care.iloc[:, np.r_[1:3, 9, 11, 15, 19, 24]])"
   ]
  },
  {
   "cell_type": "markdown",
   "id": "1e7157cc",
   "metadata": {},
   "source": [
    "### Running the Voronoi algorithm\n",
    "---\n",
    "We can now create our Voronoi polygons.\\\n",
    "First, we select the geometry of our datasets:"
   ]
  },
  {
   "cell_type": "code",
   "execution_count": null,
   "id": "0ddf5372",
   "metadata": {
    "ExecuteTime": {
     "end_time": "2021-10-15T15:18:30.593166Z",
     "start_time": "2021-10-15T15:18:30.588521Z"
    }
   },
   "outputs": [],
   "source": [
    "# We select the 'geometry' columns from both our datasets\n",
    "# This is our health care centers (points)\n",
    "points_health_care = public_health_care.iloc[:].geometry\n",
    "# And this is the boundaries of Kaduna state\n",
    "polygon_state = state_boundary.iloc[0].geometry"
   ]
  },
  {
   "cell_type": "markdown",
   "id": "ffbef915",
   "metadata": {
    "ExecuteTime": {
     "end_time": "2021-10-15T10:36:51.556397Z",
     "start_time": "2021-10-15T10:36:51.545789Z"
    }
   },
   "source": [
    "Then we can run the Voronoi creation:"
   ]
  },
  {
   "cell_type": "code",
   "execution_count": null,
   "id": "32252b6b",
   "metadata": {
    "ExecuteTime": {
     "end_time": "2021-10-15T15:18:32.612771Z",
     "start_time": "2021-10-15T15:18:31.718383Z"
    }
   },
   "outputs": [],
   "source": [
    "# We create our Voronoi polygons (using the geovoronoi library)\n",
    "# 'voronoi' will store our new voronoi polygons\n",
    "voronoi, region_pts = voronoi_regions_from_coords(\n",
    "    points_health_care, polygon_state)"
   ]
  },
  {
   "cell_type": "markdown",
   "id": "f7557dcb",
   "metadata": {},
   "source": [
    "We can now extract our voronoi results and store them in a new geopandas dataset:"
   ]
  },
  {
   "cell_type": "code",
   "execution_count": null,
   "id": "6effa1be",
   "metadata": {
    "ExecuteTime": {
     "end_time": "2021-10-15T15:18:33.643661Z",
     "start_time": "2021-10-15T15:18:33.633137Z"
    }
   },
   "outputs": [],
   "source": [
    "# We create a new dataframe 'result' to put our voronoi results (from pandas library)\n",
    "result = pd.DataFrame.from_dict(voronoi, orient='index', columns=['geometry'])\n",
    "# Then, we convert it to a geodataframe (from geopandas library), and make sure to indicate the CRS of the data\n",
    "# (epsg:26392, the same CRS we used to run the voronoi algorithm)\n",
    "voronoi_polygons = geopandas.GeoDataFrame(result).set_crs(\"epsg:26392\")"
   ]
  },
  {
   "cell_type": "markdown",
   "id": "2b41c9c4",
   "metadata": {},
   "source": [
    "Finally we reproject our datasets back to the original WGS 84 CRS (epsg:4326):"
   ]
  },
  {
   "cell_type": "code",
   "execution_count": null,
   "id": "66fa60cf",
   "metadata": {
    "ExecuteTime": {
     "end_time": "2021-10-15T15:18:35.199063Z",
     "start_time": "2021-10-15T15:18:35.106788Z"
    }
   },
   "outputs": [],
   "source": [
    "voronoi_polygons = voronoi_polygons.to_crs(\"epsg:4326\")\n",
    "public_health_care = public_health_care.to_crs(\"epsg:4326\")\n",
    "state_boundary = state_boundary.to_crs(\"epsg:4326\")"
   ]
  },
  {
   "cell_type": "markdown",
   "id": "aa53b96f",
   "metadata": {},
   "source": [
    "Let's now have a look at our results!"
   ]
  },
  {
   "cell_type": "code",
   "execution_count": null,
   "id": "0ad4c777",
   "metadata": {
    "ExecuteTime": {
     "end_time": "2021-10-15T15:18:36.826259Z",
     "start_time": "2021-10-15T15:18:36.569221Z"
    }
   },
   "outputs": [],
   "source": [
    "voronoi_map = voronoi_polygons.explore(\n",
    "    color=\"black\",  # Use black color for borders.\n",
    "    # Styling instructions. We fill the wards with lightgrey color (when hovering over them),\n",
    "    # and change the opacity of different elements.\n",
    "    style_kwds=dict(fillColor=\"lightgrey\", fill=True,\n",
    "                    opacity=1., fillOpacity=0, interactive=True),\n",
    "    tiles=\"openstreetmap\",  # Use \"Open Street Map\" background tiles.\n",
    "    tooltip=False,  # Do not show tooltip when hovering on wards.\n",
    "    smooth_factor=0,  # Prevent smoothing of the polygons edges.\n",
    "    name=\"voronoi\"  # Name of the layer in the map.\n",
    ")\n",
    "\n",
    "public_health_care.explore(\n",
    "    m=voronoi_map,  # Pass the previous map object 'voronoi_map'.\n",
    "    column=\"category\",  # Make choropleth based on \"category\" column.\n",
    "    tooltip=\"name\",  # Show \"name\" value in tooltip (on hover).\n",
    "    # Do not show column label in the tooltip.\n",
    "    tooltip_kwds=dict(labels=False),\n",
    "    popup=True,  # Show the selected values in popup (on click).\n",
    "    cmap=\"gnuplot2\",  # Use \"gnuplot2\" matplotlib color scheme.\n",
    "    marker_kwds=dict(radius=5),  # Size of the points.\n",
    "    # Styling instructions. We draw small black circles around our points,\n",
    "    # and change the opacity of different elements.\n",
    "    style_kwds=dict(color=\"black\", weight=1, fill=True,\n",
    "                    opacity=0.5, fillOpacity=0.8),\n",
    "    name=\"health_care\"  # Name of the layer in the map.\n",
    ")\n",
    "\n",
    "folium.LayerControl().add_to(voronoi_map)  # use folium to add layer control"
   ]
  },
  {
   "cell_type": "markdown",
   "id": "0bd9b646",
   "metadata": {},
   "source": [
    "We can now display our map:"
   ]
  },
  {
   "cell_type": "code",
   "execution_count": null,
   "id": "490d7ea1",
   "metadata": {
    "ExecuteTime": {
     "end_time": "2021-10-15T15:18:38.564984Z",
     "start_time": "2021-10-15T15:18:38.230165Z"
    }
   },
   "outputs": [],
   "source": [
    "voronoi_map"
   ]
  },
  {
   "cell_type": "markdown",
   "id": "ca118cee",
   "metadata": {},
   "source": [
    "## Identifying Population Coverage Target with Zonal Statistics\n",
    "---\n",
    "We are interested in finding out the population bound to specific health facilities.\n",
    "\n",
    "- Idea: find outliers in population per health facility, with a set population target.\n",
    "- Method: using zonal statistics, we can obtain summmary statistics of raster values at polygon level.\n",
    "\n",
    "We can, using zonal statistics, count the number of people living in each of our voronoi polygons:"
   ]
  },
  {
   "cell_type": "code",
   "execution_count": null,
   "id": "065962b9",
   "metadata": {
    "ExecuteTime": {
     "end_time": "2021-10-15T15:18:42.771773Z",
     "start_time": "2021-10-15T15:18:40.261707Z"
    }
   },
   "outputs": [],
   "source": [
    "# We use the function zonal_stats from the library 'rasterstats',\n",
    "# to calculate a mean and sum of population per polygon.\n",
    "# We store the results of the function in 'stats'.\n",
    "stats = zonal_stats(\n",
    "    vectors=voronoi_polygons['geometry'], raster=population, stats=['mean', 'sum'])"
   ]
  },
  {
   "cell_type": "markdown",
   "id": "d0b49582",
   "metadata": {},
   "source": [
    "Then, we can join these results back to our `voronoi_polygons` dataset:"
   ]
  },
  {
   "cell_type": "code",
   "execution_count": null,
   "id": "df1678f8",
   "metadata": {
    "ExecuteTime": {
     "end_time": "2021-10-15T15:18:43.862182Z",
     "start_time": "2021-10-15T15:18:43.856374Z"
    }
   },
   "outputs": [],
   "source": [
    "# We make a dataframe out of our 'stats' results, and join it back to the voronoi polygons.\n",
    "voronoi_polygons = voronoi_polygons.join(pd.DataFrame(\n",
    "    stats), how=\"left\")  # Note the .join (simple join) method."
   ]
  },
  {
   "cell_type": "markdown",
   "id": "60cfbf63",
   "metadata": {},
   "source": [
    "We can rename the new columns, and have a look back at `voronoi_polygons`:"
   ]
  },
  {
   "cell_type": "code",
   "execution_count": null,
   "id": "3f3f2858",
   "metadata": {
    "ExecuteTime": {
     "end_time": "2021-10-15T15:18:45.038371Z",
     "start_time": "2021-10-15T15:18:45.019169Z"
    },
    "scrolled": false
   },
   "outputs": [],
   "source": [
    "# Rename the columns to 'Population_mean' and 'Population_sum'\n",
    "voronoi_polygons = voronoi_polygons.rename(\n",
    "    columns={'mean': 'Population_mean', 'sum': 'Population_sum'})\n",
    "voronoi_polygons"
   ]
  },
  {
   "cell_type": "markdown",
   "id": "cd6ac9f0",
   "metadata": {},
   "source": [
    "We will now finally join the population data back to our `public_health_care`.\n",
    "\n",
    "To make sure we join the population data from our voronoi polygons to the correct health center data points, we will peform here instead a ***spatial join***.\\\n",
    "The spatial join (denoted `.sjoin` below) is different from the simple join (denoted `.join` above) we just used. The previous join simply add the population information we calculated, by matching the data in order to each rows of the table of `voronoi_polygons`. The spatial join instead check the spatial location of each health care center point, and if this point is inside a particular voronoi polygon, it will add the information from the polygon to the point.\\\n",
    "This is done for each health care center point:"
   ]
  },
  {
   "cell_type": "code",
   "execution_count": null,
   "id": "f19372b1",
   "metadata": {
    "ExecuteTime": {
     "end_time": "2021-10-15T15:18:46.471046Z",
     "start_time": "2021-10-15T15:18:46.448961Z"
    }
   },
   "outputs": [],
   "source": [
    "# We use a spatial join to join population results back to health care centers.\n",
    "public_health_care = public_health_care.sjoin(\n",
    "    voronoi_polygons, how=\"left\")  # Note the .sjoin (spatial join) method."
   ]
  },
  {
   "cell_type": "markdown",
   "id": "8a92dc5b",
   "metadata": {},
   "source": [
    "We can make sure the data has been correctly added:"
   ]
  },
  {
   "cell_type": "code",
   "execution_count": null,
   "id": "b8b8a09e",
   "metadata": {
    "ExecuteTime": {
     "end_time": "2021-10-15T15:18:47.756318Z",
     "start_time": "2021-10-15T15:18:47.711466Z"
    }
   },
   "outputs": [],
   "source": [
    "# Display the results by descending order\n",
    "public_health_care.sort_values(by=['Population_sum'], ascending=False)"
   ]
  },
  {
   "cell_type": "markdown",
   "id": "0cc901e3",
   "metadata": {},
   "source": [
    "And perform a final check to make sure all of our health care centers have a population value attached:"
   ]
  },
  {
   "cell_type": "code",
   "execution_count": null,
   "id": "c067e3c0",
   "metadata": {
    "ExecuteTime": {
     "end_time": "2021-10-15T15:18:49.109225Z",
     "start_time": "2021-10-15T15:18:49.099959Z"
    }
   },
   "outputs": [],
   "source": [
    "# We check for null values (missing values) in each rows, and sum it back for each columns.\n",
    "public_health_care.isnull().sum()"
   ]
  },
  {
   "cell_type": "markdown",
   "id": "03b8fd81",
   "metadata": {},
   "source": [
    "### Setting a target\n",
    "---\n",
    "\n",
    "Here, we set a target at 4'000 women of child-bearing age.\\\n",
    "Let's quickly plot an histogram, to have a look at the repartition of population for the different health care centers."
   ]
  },
  {
   "cell_type": "code",
   "execution_count": null,
   "id": "72adabd0",
   "metadata": {
    "ExecuteTime": {
     "end_time": "2021-10-15T15:18:50.692685Z",
     "start_time": "2021-10-15T15:18:50.473744Z"
    }
   },
   "outputs": [],
   "source": [
    "# We create a new figure\n",
    "fig, ax = plt.subplots(figsize=(14, 5))\n",
    "\n",
    "# We plot an histogram based on the 'population_sum' column\n",
    "ax.hist(public_health_care[\"Population_sum\"],\n",
    "        bins=50, alpha=0.5, edgecolor='black')\n",
    "\n",
    "# Draw a vertical line at population=4000\n",
    "ax.axvline(x=4000, color='k', linestyle='--')\n",
    "ax.set_xlabel(\"Population\")\n",
    "ax.set_ylabel(\"Frequency\")\n",
    "\n",
    "plt.show()"
   ]
  },
  {
   "cell_type": "markdown",
   "id": "f6c098b3",
   "metadata": {},
   "source": [
    "## Identifying areas above target\n",
    "---\n",
    "To finish, we just need to select voronoi areas where we have more than 4000 women of child-bearing age."
   ]
  },
  {
   "cell_type": "code",
   "execution_count": null,
   "id": "024b47e0",
   "metadata": {
    "ExecuteTime": {
     "end_time": "2021-10-15T15:18:52.089967Z",
     "start_time": "2021-10-15T15:18:52.085581Z"
    }
   },
   "outputs": [],
   "source": [
    "outliers = voronoi_polygons[voronoi_polygons[\"Population_sum\"] > 4000]"
   ]
  },
  {
   "cell_type": "markdown",
   "id": "4e59a22f",
   "metadata": {},
   "source": [
    "And using the different element we have already created, add our outliers to the interactive map:"
   ]
  },
  {
   "cell_type": "code",
   "execution_count": null,
   "id": "a4c270da",
   "metadata": {
    "ExecuteTime": {
     "end_time": "2021-10-15T15:18:53.810128Z",
     "start_time": "2021-10-15T15:18:53.601834Z"
    }
   },
   "outputs": [],
   "source": [
    "map_final = voronoi_polygons.explore(\n",
    "    color=\"black\",  # Use black color for borders.\n",
    "    # Styling instructions. We fill the wards with lightgrey color (when hovering over them),\n",
    "    # and change the opacity of different elements.\n",
    "    style_kwds=dict(fillColor=\"lightgrey\", fill=True,\n",
    "                    opacity=1., fillOpacity=0, interactive=True),\n",
    "    tiles=\"openstreetmap\",  # Use \"Open Street Map\" background tiles.\n",
    "    tooltip=False,  # Do not show tooltip when hovering on wards.\n",
    "    popup=\"Population_sum\",  # show population values in popup (on click).\n",
    "    popup_kwds=dict(labels=True), # Show column label in the popup.\n",
    "    smooth_factor=0,  # Prevent smoothing of the polygons edges.\n",
    "    name=\"voronoi\"  # Name of the layer in the map.\n",
    ")\n",
    "\n",
    "outliers.explore(\n",
    "    m=map_final,  # Pass the previous map object 'map_final'.\n",
    "    color=\"black\",  # Use black color for borders.\n",
    "    # Styling instructions. We fill the outlier wards with red color,\n",
    "    # and change the opacity of different elements.\n",
    "    style_kwds=dict(fillColor=\"red\", fill=True, opacity=0.,\n",
    "                    fillOpacity=0.5, interactive=True),\n",
    "    tooltip=False,  # Do not show tooltip when hovering on wards.\n",
    "    popup=\"Population_sum\",  # Show population values in popup (on click).\n",
    "    popup_kwds=dict(labels=True), # Show column label in the popup.\n",
    "    smooth_factor=0,  # Prevent smoothing of the polygons edges.\n",
    "    name=\"wards\"  # Name of the layer in the map.\n",
    ")\n",
    "\n",
    "public_health_care.explore(\n",
    "    m=map_final,  # Pass the previous map object 'map_final'.\n",
    "    column=\"category\",  # Make choropleth based on \"category\" column.\n",
    "    tooltip=\"name\",  # Show \"name\" value in tooltip (on hover).\n",
    "    # Do not show column label in the tooltip.\n",
    "    tooltip_kwds=dict(labels=False),\n",
    "    popup=True,  # Show the selected values in popup (on click).\n",
    "    cmap=\"gnuplot2\",  # Use \"gnuplot2\" matplotlib color scheme.\n",
    "    marker_kwds=dict(radius=5),  # Size of the points.\n",
    "    # Styling instructions. We draw small black circles around our points,\n",
    "    # and change the opacity of different elements.\n",
    "    style_kwds=dict(color=\"black\", weight=1, fill=True,\n",
    "                    opacity=0.5, fillOpacity=0.8),\n",
    "    name=\"health_care\"  # Name of the layer in the map.\n",
    ")\n",
    "\n",
    "folium.LayerControl().add_to(map_final)  # use folium to add layer control"
   ]
  },
  {
   "cell_type": "code",
   "execution_count": null,
   "id": "6e2848b8",
   "metadata": {
    "ExecuteTime": {
     "end_time": "2021-10-15T15:18:54.962163Z",
     "start_time": "2021-10-15T15:18:54.523507Z"
    }
   },
   "outputs": [],
   "source": [
    "map_final"
   ]
  }
 ],
 "metadata": {
  "kernelspec": {
   "display_name": "Python [conda env:.conda-geo_python]",
   "language": "python",
   "name": "conda-env-.conda-geo_python-py"
  },
  "language_info": {
   "codemirror_mode": {
    "name": "ipython",
    "version": 3
   },
   "file_extension": ".py",
   "mimetype": "text/x-python",
   "name": "python",
   "nbconvert_exporter": "python",
   "pygments_lexer": "ipython3",
   "version": "3.9.7"
  },
  "toc": {
   "base_numbering": 1,
   "nav_menu": {},
   "number_sections": true,
   "sideBar": true,
   "skip_h1_title": false,
   "title_cell": "Table of Contents",
   "title_sidebar": "Contents",
   "toc_cell": false,
   "toc_position": {
    "height": "calc(100% - 180px)",
    "left": "10px",
    "top": "150px",
    "width": "212px"
   },
   "toc_section_display": true,
   "toc_window_display": true
  }
 },
 "nbformat": 4,
 "nbformat_minor": 5
}
